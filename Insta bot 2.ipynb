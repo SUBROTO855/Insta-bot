{
 "cells": [
  {
   "cell_type": "markdown",
   "id": "c99c7132",
   "metadata": {},
   "source": [
    "#### Instructions\n",
    "#### Insert sample_username and sample_password(in 3rd cell)\n",
    "#### Use stable internet Connection\n",
    "#### Run the whole kernel\n",
    "#### Run in maximised mode only (Supports only maximize mode)"
   ]
  },
  {
   "cell_type": "markdown",
   "id": "42fe2f95",
   "metadata": {},
   "source": [
    "## Importing libraries"
   ]
  },
  {
   "cell_type": "code",
   "execution_count": 2,
   "id": "32704682",
   "metadata": {},
   "outputs": [],
   "source": [
    "from selenium import webdriver\n",
    "import time\n",
    "from selenium.webdriver.support.select import Select\n",
    "from selenium.webdriver.common.by import By\n",
    "from selenium.webdriver.support import expected_conditions as EC\n",
    "from selenium.common.exceptions import NoSuchElementException\n",
    "from datetime import date\n",
    "from datetime import timedelta \n",
    "import operator\n",
    "from selenium.webdriver.support.ui import WebDriverWait\n",
    "import csv\n",
    "import matplotlib.pyplot as plt\n",
    "import pandas as pd"
   ]
  },
  {
   "cell_type": "markdown",
   "id": "b4d49ead",
   "metadata": {},
   "source": [
    "## Intiating driver session"
   ]
  },
  {
   "cell_type": "code",
   "execution_count": null,
   "id": "be5e14fe",
   "metadata": {},
   "outputs": [],
   "source": [
    "driver = webdriver.Chrome(executable_path = 'F:/chromedriver.exe')\n",
    "#maximizing window\n",
    "driver.maximize_window()\n",
    "wait = WebDriverWait(driver,10)"
   ]
  },
  {
   "cell_type": "markdown",
   "id": "463ebeee",
   "metadata": {},
   "source": [
    "## Opening the instagram and login by username and password"
   ]
  },
  {
   "cell_type": "code",
   "execution_count": null,
   "id": "160b8e49",
   "metadata": {},
   "outputs": [],
   "source": [
    "driver.get('https://www.instagram.com')\n",
    "time.sleep(3)\n",
    "username = wait.until(EC.presence_of_element_located((By.NAME,'username')))\n",
    "username.send_keys('sample_username') # fill username\n",
    "password = driver.find_element_by_name(\"password\")\n",
    "password.send_keys('sample_password')# fill password\n",
    "password.submit()\n",
    "time.sleep(5)\n",
    "# turning off the notifications\n",
    "driver.find_element_by_xpath('//button[contains(@class,\"aOOlW   HoLwm \")]').click()\n",
    "time.sleep(2)"
   ]
  },
  {
   "cell_type": "markdown",
   "id": "375bc40b",
   "metadata": {},
   "source": [
    "## Searching food related instagram handles"
   ]
  },
  {
   "cell_type": "code",
   "execution_count": null,
   "id": "f8c56c78",
   "metadata": {},
   "outputs": [],
   "source": [
    "#locating search_bar                                      \n",
    "search_bar = driver.find_element_by_xpath('//input[contains(@class,\"XTCLo x3qfX\")]')\n",
    "#extracting all the food related instagram handles and storing them for further use\n",
    "search_bar.send_keys('food')\n",
    "time.sleep(3)\n",
    "options = driver.find_elements_by_class_name('Ap253')\n",
    "food_handles = []\n",
    "for i in options:\n",
    "    if i.text[0] != '#' and ' ' not in i.text and i.text != \"food\":\n",
    "        food_handles.append(i.text)\n",
    "        #print(i.text)\n",
    "driver.find_element_by_class_name('coreSpriteSearchClear').click()"
   ]
  },
  {
   "cell_type": "markdown",
   "id": "2a27002b",
   "metadata": {},
   "source": [
    "## Finding the no. of followers of popular Instagram food handles"
   ]
  },
  {
   "cell_type": "code",
   "execution_count": null,
   "id": "7637b2db",
   "metadata": {},
   "outputs": [],
   "source": [
    "page_and_followers = {}\n",
    "separator = ''\n",
    "count = 0\n",
    "i = -1\n",
    "while count < 10:\n",
    "    i += 1\n",
    "    search_bar = driver.find_element_by_xpath('//input[contains(@class,\"XTCLo x3qfX\")]')\n",
    "    search_bar.send_keys(food_handles[i])\n",
    "    time.sleep(3)\n",
    "    wait.until(EC.presence_of_element_located((By.CLASS_NAME,'yCE8d'))).click()\n",
    "    time.sleep(3)\n",
    "    try:\n",
    "        followers = driver.find_element_by_xpath('/html/body/div[1]/section/main/div/header/section/ul/li[2]/a/span').get_attribute('title')\n",
    "        \n",
    "    except NoSuchElementException:\n",
    "        continue\n",
    "    \n",
    "    page_and_followers[food_handles[i]] =  int(separator.join(followers.split(',')))\n",
    "    count += 1"
   ]
  },
  {
   "cell_type": "markdown",
   "id": "d9b692df",
   "metadata": {},
   "source": [
    "## Finding Top5 food handles with maximum number of followers"
   ]
  },
  {
   "cell_type": "code",
   "execution_count": null,
   "id": "a1953f9a",
   "metadata": {},
   "outputs": [],
   "source": [
    "page_and_followers_sorted = sorted(page_and_followers.items(), key=operator.itemgetter(1) ,reverse=True)\n",
    "top5_food_handles= []\n",
    "for i in range(5):\n",
    "    top5_food_handles.append(page_and_followers_sorted[i])"
   ]
  },
  {
   "cell_type": "markdown",
   "id": "e6911369",
   "metadata": {},
   "source": [
    "## Number of posts by top5 food handles in previous 3 days"
   ]
  },
  {
   "cell_type": "code",
   "execution_count": null,
   "id": "2bb479f4",
   "metadata": {},
   "outputs": [],
   "source": [
    "posts_in_last_3_days = {}\n",
    "for i in top5_food_handles:\n",
    "    search_bar = driver.find_element_by_xpath('//input[contains(@class,\"XTCLo x3qfX\")]')\n",
    "    page_name = i[0]\n",
    "    search_bar.send_keys(page_name)\n",
    "    time.sleep(3)\n",
    "    wait.until(EC.presence_of_element_located((By.CLASS_NAME,'yCE8d'))).click()\n",
    "    time.sleep(3)\n",
    "    posts_in_last_3_days[page_name] = 0\n",
    "    try:\n",
    "        #some pages don't have highlights so first post is present in section/main/div/div[2] instead of section/main/div/div[3]\n",
    "        first_post = driver.find_element_by_xpath('//*[@id=\"react-root\"]/section/main/div/div[3]/article/div[1]/div/div[1]/div[1]/a/div[1]/div[2]')\n",
    "        first_post.click()\n",
    "    except NoSuchElementException:\n",
    "        first_post = driver.find_element_by_xpath('/html/body/div[1]/section/main/div/div[2]/article/div[1]/div/div[1]/div[1]/a/div[1]/div[2]') \n",
    "        first_post.click()    \n",
    "    time.sleep(3)\n",
    "    day_info =  wait.until(EC.presence_of_element_located((By.XPATH,'/html/body/div[4]/div[2]/div/article/div[2]/div[1]/ul/div/li/div/div/div[2]/div/div/time'))).get_attribute('datetime')\n",
    "    day_info = day_info.split('T')[0]\n",
    "    if day_info in last_3_dates:\n",
    "        posts_in_last_3_days[page_name] += 1\n",
    "    while True:\n",
    "        wait.until(EC.presence_of_element_located((By.CLASS_NAME,\"coreSpriteRightPaginationArrow\"))).click()\n",
    "        time.sleep(3)\n",
    "        day_info =  wait.until(EC.presence_of_element_located((By.XPATH,\"/html/body/div[4]/div[2]/div/article/div[2]/div[1]/ul/div/li/div/div/div[2]/div/div/time\"))).get_attribute('datetime')\n",
    "        day_info = day_info.split('T')[0]\n",
    "        if day_info in last_3_dates:\n",
    "            posts_in_last_3_days[page_name] += 1\n",
    "        else:\n",
    "            cross_btn = wait.until(EC.presence_of_element_located((By.XPATH,'/html/body/div[4]/div[3]/button')))\n",
    "            cross_btn.click()\n",
    "            time.sleep(2)\n",
    "            break"
   ]
  },
  {
   "cell_type": "markdown",
   "id": "a35310c5",
   "metadata": {},
   "source": [
    "## Plotting Bar graph to show Number of posts by top 5 food handles in last 3 days"
   ]
  },
  {
   "cell_type": "code",
   "execution_count": null,
   "id": "2f078150",
   "metadata": {},
   "outputs": [],
   "source": [
    "plt.bar(posts_in_last_3_days.keys(),posts_in_last_3_days.values(),color='red',edgecolor='black',linewidth=4,joinstyle='bevel')\n",
    "plt.xlabel('Food handles')\n",
    "plt.ylabel('Number of posts in last 3 days')\n",
    "plt.grid()\n",
    "plt.xticks(rotation = 90)\n",
    "plt.show()"
   ]
  },
  {
   "cell_type": "markdown",
   "id": "2ec17170",
   "metadata": {},
   "source": [
    "## Scraping the content of the first 10 posts of top5 food handle."
   ]
  },
  {
   "cell_type": "code",
   "execution_count": null,
   "id": "62da84b9",
   "metadata": {},
   "outputs": [],
   "source": [
    "#this is cell is manily to extract the post's content so that user can have idea about post writing for food instagram handle \n",
    "#This cell can be removed while running the kernel \n",
    "data_of_first_10_posts = {}\n",
    "for i in top5_food_handles:\n",
    "    search_bar = driver.find_element_by_xpath('//input[contains(@class,\"XTCLo x3qfX\")]')\n",
    "    page_name = i[0]\n",
    "    search_bar.send_keys(page_name)\n",
    "    time.sleep(3)\n",
    "    wait.until(EC.presence_of_element_located((By.CLASS_NAME,'yCE8d'))).click()\n",
    "    time.sleep(3)\n",
    "    data_of_first_10_posts[page_name] = []\n",
    "    try:\n",
    "        #some pages don't have highlights so first post is present in section/main/div/div[2] instead of section/main/div/div[3]\n",
    "        first_post = driver.find_element_by_xpath('//*[@id=\"react-root\"]/section/main/div/div[3]/article/div[1]/div/div[1]/div[1]/a/div[1]/div[2]')\n",
    "        first_post.click()\n",
    "    except NoSuchElementException:\n",
    "        first_post = driver.find_element_by_xpath('/html/body/div[1]/section/main/div/div[2]/article/div[1]/div/div[1]/div[1]/a/div[1]/div[2]') \n",
    "        first_post.click()    \n",
    "    time.sleep(3)\n",
    "    data = driver.find_element_by_xpath('/html/body/div[4]/div[2]/div/article/div[2]/div[1]/ul/div/li/div/div/div[2]/span').get_attribute('textContent')\n",
    "    data_of_first_10_posts[page_name].append(data)\n",
    "    for j in range(9):\n",
    "        wait.until(EC.presence_of_element_located((By.CLASS_NAME,\"coreSpriteRightPaginationArrow\"))).click()\n",
    "        time.sleep(3)\n",
    "        data = driver.find_element_by_xpath('/html/body/div[4]/div[2]/div/article/div[2]/div[1]/ul/div/li/div/div/div[2]/span').get_attribute('textContent')\n",
    "        data_of_first_10_posts[page_name].append(data)\n",
    "\n",
    "    cross_btn = wait.until(EC.presence_of_element_located((By.XPATH,'/html/body/div[4]/div[3]/button')))\n",
    "    cross_btn.click()\n",
    "    time.sleep(2)"
   ]
  },
  {
   "cell_type": "markdown",
   "id": "14d2caea",
   "metadata": {},
   "source": [
    "## Extracting hashtags and number of likes in first 10 posts of each handle"
   ]
  },
  {
   "cell_type": "code",
   "execution_count": null,
   "id": "3e508eb7",
   "metadata": {},
   "outputs": [],
   "source": [
    "\n",
    "page_likes_and_hashtags = {}\n",
    "for i in top5_food_handles:\n",
    "    search_bar = driver.find_element_by_xpath('//input[contains(@class,\"XTCLo x3qfX\")]')\n",
    "    page_name = i[0]\n",
    "    search_bar.send_keys(page_name)\n",
    "    time.sleep(3)\n",
    "    wait.until(EC.presence_of_element_located((By.CLASS_NAME,'yCE8d'))).click()\n",
    "    time.sleep(3)\n",
    "    page_likes_and_hashtags[page_name] = {'Likes':[], 'Hashtags':[]}\n",
    "    try:\n",
    "        #some pages don't have highlights so first post is present in section/main/div/div[2] instead of section/main/div/div[3]\n",
    "        first_post = driver.find_element_by_xpath('//*[@id=\"react-root\"]/section/main/div/div[3]/article/div[1]/div/div[1]/div[1]/a/div[1]/div[2]')\n",
    "        first_post.click()\n",
    "    except NoSuchElementException:\n",
    "        first_post = driver.find_element_by_xpath('/html/body/div[1]/section/main/div/div[2]/article/div[1]/div/div[1]/div[1]/a/div[1]/div[2]') \n",
    "        first_post.click()    \n",
    "    time.sleep(3)\n",
    "    try:\n",
    "        #location is different for images and videos\n",
    "        likes = driver.find_element_by_xpath('/html/body/div[4]/div[2]/div/article/div[2]/section[2]/div/span/span').get_attribute('innerHTML')\n",
    "        likes = int(separator.join(likes.split(',')))\n",
    "    except NoSuchElementException:  \n",
    "        likes = driver.find_element_by_xpath('/html/body/div[4]/div[2]/div/article/div[2]/section[2]/div/div/button/span').get_attribute('innerHTML')\n",
    "        likes = int(separator.join(likes.split(',')))\n",
    "    page_likes_and_hashtags[page_name]['Likes'].append((1,likes))\n",
    "    hashtags = driver.find_elements_by_xpath('/html/body/div[4]/div[2]/div/article/div[2]/div[1]/ul/div/li/div/div/div[2]/span/a')\n",
    "    for k in hashtags:\n",
    "        text = k.get_attribute('innerHTML')\n",
    "        if text[0] != '@':\n",
    "            page_likes_and_hashtags[page_name]['Hashtags'].append(text)\n",
    "    for j in range(9):\n",
    "        wait.until(EC.presence_of_element_located((By.CLASS_NAME,\"coreSpriteRightPaginationArrow\"))).click()\n",
    "        time.sleep(3)\n",
    "        try:\n",
    "            #location is different for images and videos\n",
    "            likes = driver.find_element_by_xpath('/html/body/div[4]/div[2]/div/article/div[2]/section[2]/div/span/span').get_attribute('innerHTML')\n",
    "            likes = int(separator.join(likes.split(',')))\n",
    "        except NoSuchElementException:  \n",
    "            likes = driver.find_element_by_xpath('/html/body/div[4]/div[2]/div/article/div[2]/section[2]/div/div/button/span').get_attribute('innerHTML')\n",
    "            likes = int(separator.join(likes.split(',')))\n",
    "        page_likes_and_hashtags[page_name]['Likes'].append((j + 1,likes))\n",
    "        hashtags = driver.find_elements_by_xpath('/html/body/div[4]/div[2]/div/article/div[2]/div[1]/ul/div/li/div/div/div[2]/span/a')                                         \n",
    "        for k in hashtags:\n",
    "            text = k.get_attribute('innerHTML')\n",
    "            if text[0] != '@':\n",
    "                page_likes_and_hashtags[page_name]['Hashtags'].append(text)\n",
    "\n",
    "    cross_btn = wait.until(EC.presence_of_element_located((By.XPATH,'/html/body/div[4]/div[3]/button')))\n",
    "    cross_btn.click()\n",
    "    time.sleep(2)"
   ]
  },
  {
   "cell_type": "markdown",
   "id": "5ea3cb0d",
   "metadata": {},
   "source": [
    "## Top 5 Food Hashtags"
   ]
  },
  {
   "cell_type": "code",
   "execution_count": null,
   "id": "54c2fcb3",
   "metadata": {},
   "outputs": [],
   "source": [
    "all_food_hashtags = {}\n",
    "for i in page_likes_and_hashtags:\n",
    "    temp = page_likes_and_hashtags[i]['Hashtags']\n",
    "    for j in temp:\n",
    "        all_food_hashtags[j] = all_food_hashtags.get(j, 0) + 1\n",
    "all_food_hashtags_sorted =  sorted(all_food_hashtags.items(), key=operator.itemgetter(1) ,reverse=True)   \n",
    "top5_food_hashtags = {}\n",
    "for i in range(5):\n",
    "    top5_food_hashtags[all_food_hashtags_sorted[i][0]] = all_food_hashtags_sorted[i][1]\n",
    "    \n",
    "plt.pie(top5_food_hashtags.values(), colors = [\"red\",\"green\",\"cyan\",\"brown\",\"yellow\"],wedgeprops = {'linewidth': 4},explode = (0.1, 0.1, 0.0, 0.0, 0),labels = top5_food_hashtags,shadow=True, startangle=90)\n",
    "plt.axis(\"equal\")\n",
    "plt.title(\"Top5 food Hashtags\")\n",
    "plt.show()"
   ]
  },
  {
   "cell_type": "markdown",
   "id": "1c05615c",
   "metadata": {},
   "source": [
    "## Storing the Hashtags with their frequency in csv file"
   ]
  },
  {
   "cell_type": "code",
   "execution_count": null,
   "id": "5743079f",
   "metadata": {},
   "outputs": [],
   "source": [
    "df = pd.DataFrame(all_food_hashtags_sorted, columns = ['Hashtags', 'Frequency'])\n",
    "df= df.drop(0)\n",
    "df.to_csv('F:/Hashtags_for_food_handles.csv')# User can change it accordingly"
   ]
  },
  {
   "cell_type": "markdown",
   "id": "c3d95b50",
   "metadata": {},
   "source": [
    "## Average Likes for each food handle based upon first 10 posts"
   ]
  },
  {
   "cell_type": "code",
   "execution_count": null,
   "id": "a0255e10",
   "metadata": {},
   "outputs": [],
   "source": [
    "average_likes_for_food_handle = {}\n",
    "for i in page_likes_and_hashtags:\n",
    "    average_likes_for_food_handle[i] = 0\n",
    "    for j in page_likes_and_hashtags[i]['Likes']:\n",
    "        average_likes_for_food_handle[i] += j[1]\n",
    "    average_likes_for_food_handle[i] = average_likes_for_food_handle[i]//10"
   ]
  },
  {
   "cell_type": "markdown",
   "id": "5e88d1e5",
   "metadata": {},
   "source": [
    "## Calculating Followers:Likes Ratio for each handle"
   ]
  },
  {
   "cell_type": "code",
   "execution_count": null,
   "id": "d61bc3ec",
   "metadata": {},
   "outputs": [],
   "source": [
    "average_follower_like_ratio = {}\n",
    "for i in average_likes_for_food_handle:\n",
    "    average_follower_like_ratio[i] = page_and_followers[i]//average_likes_for_food_handle[i]"
   ]
  },
  {
   "cell_type": "markdown",
   "id": "11b3b08b",
   "metadata": {},
   "source": [
    "## Bar graph to depict the Followers:Likes Ratio for Top5 Food Handles¶"
   ]
  },
  {
   "cell_type": "code",
   "execution_count": null,
   "id": "8359dfc9",
   "metadata": {},
   "outputs": [],
   "source": [
    "plt.bar(average_follower_like_ratio.keys(),average_follower_like_ratio.values(),color='red',edgecolor='black',linewidth=4,joinstyle='bevel')\n",
    "plt.xlabel('Food handles')\n",
    "plt.ylabel('Followers:Likes ratio')\n",
    "plt.grid()\n",
    "plt.xticks(rotation = 90)\n",
    "plt.show()"
   ]
  }
 ],
 "metadata": {
  "kernelspec": {
   "display_name": "Python 3",
   "language": "python",
   "name": "python3"
  },
  "language_info": {
   "codemirror_mode": {
    "name": "ipython",
    "version": 3
   },
   "file_extension": ".py",
   "mimetype": "text/x-python",
   "name": "python",
   "nbconvert_exporter": "python",
   "pygments_lexer": "ipython3",
   "version": "3.8.8"
  }
 },
 "nbformat": 4,
 "nbformat_minor": 5
}
